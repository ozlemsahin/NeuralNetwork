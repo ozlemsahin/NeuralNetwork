{
 "cells": [
  {
   "cell_type": "markdown",
   "metadata": {},
   "source": [
    "### **imports**"
   ]
  },
  {
   "cell_type": "code",
   "execution_count": 3,
   "metadata": {},
   "outputs": [],
   "source": [
    "import sklearn.datasets\n",
    "import matplotlib.pyplot as plt\n",
    "import matplotlib.axes\n",
    "from sklearn.preprocessing import StandardScaler\n",
    "import numpy as np\n",
    "import random\n",
    "from sympy import *\n",
    "from scipy.misc import derivative"
   ]
  },
  {
   "cell_type": "markdown",
   "metadata": {},
   "source": [
    "### **create dataset** (between -1 and 1)\n",
    "number of features (n) : 2 \\\n",
    "number of examples (m) : 100 \\\n",
    "number of informative (y) : 1"
   ]
  },
  {
   "cell_type": "code",
   "execution_count": 4,
   "metadata": {},
   "outputs": [
    {
     "name": "stdout",
     "output_type": "stream",
     "text": [
      "[ 0.41163826 -0.28987419 -0.19780882 -0.2105428  -0.77256531 -0.33156446\n",
      " -0.99150156  0.11956416  0.02174052 -0.80256849  0.35514296 -0.40550424\n",
      " -0.21701583 -0.18057522 -0.59841488 -0.11172917  0.67898281 -0.99703499\n",
      " -0.07385931 -0.66475439 -0.23251485 -0.79512659 -0.4805419   0.91862179\n",
      " -0.74218083  0.00552987 -0.58410461 -0.93067545  0.55762307  0.51484555\n",
      " -0.39095681  0.95694583 -0.89031176 -0.52840911  0.10847667 -0.51670295\n",
      "  0.05924477  0.23150628 -0.37862122 -0.28344481  0.64942066  0.92599732\n",
      "  0.80202752 -0.79494033 -0.99533124  0.64921062  0.23202534  0.66106807\n",
      " -0.97069099  0.63312858 -0.25875729  0.46957499 -0.40718871 -0.68443504\n",
      " -0.57972482  0.86376737 -0.73164864  0.64872358 -0.96551796 -0.16908648\n",
      " -0.06884092  0.48486589  0.17406808 -0.98694597  0.96404705  0.3505091\n",
      " -0.02224879  0.13247094 -0.11453852  0.88947381  0.0516644  -0.50465773\n",
      "  0.50785787  0.64014038 -0.29759323 -0.09597025 -0.22721663 -0.39746924\n",
      "  0.30467653 -0.89353166 -0.34951352 -0.48968048 -0.78670716 -0.2447632\n",
      "  0.92730922  0.71637782  0.36934172  0.6001142   0.31301166 -0.18277096\n",
      " -0.95207131 -0.41945153  0.20748611 -0.73632744  0.57424456 -0.77024525\n",
      "  0.06739259 -0.69491561 -0.65482928 -0.67514262]\n",
      "[ 0.87123239  0.29070016  0.13551882  0.85800002  0.72080374 -0.33516095\n",
      " -0.68109836  0.16622484 -0.75988472 -0.34827105  0.77423773  0.75920363\n",
      " -0.36646834 -0.73918249 -0.02876719  0.76230297 -0.68306769  0.84757922\n",
      " -0.75237102  0.49266284  0.59067774 -0.26422268  0.07569156 -0.20105442\n",
      " -0.08334652  0.05000293  0.06215593 -0.07533445 -0.22286617  0.74399645\n",
      " -0.8292538   0.55645684 -0.19500735 -0.44966145 -0.73747038 -0.93856586\n",
      "  0.26004492 -0.3379151   0.48433831  0.31962383  0.54378085  0.07788921\n",
      " -0.35001342  0.83115324  0.52635035  0.11059533  0.42804861  0.83569038\n",
      "  0.00632313  0.24864582  0.58469134 -0.74403037 -0.07846033 -0.72655054\n",
      " -0.79461127 -0.51008365 -0.02167303  0.39919701 -0.83950861  0.06839346\n",
      " -0.41057658  0.17410725  0.44059893  0.8921122  -0.24874424  0.1778201\n",
      "  0.19739757  0.93374481  0.30677023  0.9426183   0.97478586 -0.59247021\n",
      "  0.74124817  0.5478804  -0.38497172  0.58207127 -0.22994612  0.09380461\n",
      "  0.29876122  0.95396453  0.44764197  0.20835703 -0.741698    0.48457007\n",
      " -0.74587807 -0.97667829  0.13912237 -0.05894982  0.94540419 -0.14076969\n",
      "  0.51926148  0.43291576  0.47671752  0.691946   -0.64821581 -0.12341356\n",
      "  0.63319711  0.98479371  0.0232935  -0.49399369]\n"
     ]
    }
   ],
   "source": [
    "Y_raw = np.ones(100)\n",
    "X1_raw = np.ones(100)\n",
    "X2_raw = np.ones(100)\n",
    "def randomForX(X_raw):\n",
    "    for i in range(0,100):\n",
    "        X_raw[i] = random.uniform(1.0, -1.0)\n",
    "    return\n",
    "randomForX(X1_raw)\n",
    "randomForX(X2_raw)\n",
    "print(X1_raw)\n",
    "print(X2_raw)\n"
   ]
  },
  {
   "cell_type": "code",
   "execution_count": 5,
   "metadata": {},
   "outputs": [
    {
     "name": "stdout",
     "output_type": "stream",
     "text": [
      "[1 1 1 1 1 1 1 1 1 1 1 1 1 1 1 1 1 1 1 1 1 1 1 1 1 1 1 1 1 1 1 1 1 1 1 1 1\n",
      " 1 1 1 1 1 1 1 1 1 1 1 1 1 1 1 1 1 1 1 1 1 1 1 1 1 1 1 1 1 1 1 1 1 1 1 1 1\n",
      " 1 1 1 1 1 1 1 1 1 1 1 1 1 1 1 1 1 1 1 1 1 1 1 1 1 1]\n",
      "new Y.shape : (100,)\n",
      "new x1.shape : (100,)\n",
      "new x2.shape : (100,)\n"
     ]
    }
   ],
   "source": [
    "# shape y\n",
    "Y_raw = np.array(Y_raw, dtype=np.int)\n",
    "print(Y_raw)\n",
    "#print(\"old shape : \" + str(Y_raw.shape))\n",
    "print(\"new Y.shape : \" + str(Y_raw.shape))\n",
    "print(\"new x1.shape : \" + str(X1_raw.shape))\n",
    "print(\"new x2.shape : \" + str(X2_raw.shape))\n",
    "X1_raw = X1_raw.reshape(1,X1_raw.shape[0])# Birden fazla kez yapınca hata vermesin diye yorumdalar\n",
    "X2_raw = X2_raw.reshape(1,X2_raw.shape[0])\n",
    "Y_raw = Y_raw.reshape(1,Y_raw.shape[0])\n"
   ]
  },
  {
   "cell_type": "code",
   "execution_count": 32,
   "metadata": {},
   "outputs": [],
   "source": [
    "#Normalize Data between [-1,1]x[-1,1] \n",
    " #ALREADY CREATED THAT WAY"
   ]
  },
  {
   "cell_type": "code",
   "execution_count": 6,
   "metadata": {},
   "outputs": [
    {
     "name": "stdout",
     "output_type": "stream",
     "text": [
      "[[-1 -1 -1 -1 -1  1 -1 -1  1 -1 -1 -1  1  1 -1 -1  1 -1  1 -1 -1 -1 -1  1\n",
      "  -1 -1 -1 -1  1 -1  1  1 -1 -1  1  1 -1  1 -1 -1  1  1  1 -1 -1  1 -1 -1\n",
      "  -1  1 -1  1 -1  1  1  1 -1  1 -1 -1  1  1 -1 -1  1  1 -1 -1 -1 -1 -1  1\n",
      "  -1  1  1 -1  1 -1  1 -1 -1 -1 -1 -1  1  1  1  1 -1 -1 -1 -1 -1 -1  1 -1\n",
      "  -1 -1 -1 -1]]\n"
     ]
    }
   ],
   "source": [
    "#AUFGABE 7.1.1 \n",
    "#Verwenden Sie die Gerade, die durch diese zwei Punkte verläuft, \n",
    "#als die Entscheidungsgrenze ihrer Zielfunktion\n",
    "#F: Punkte auf der einen Seite der Linie sollen als +1 und die anderen als −1 klassifiziert werden.\n",
    "\n",
    "def normalizeY():\n",
    "    for i in range(0,100):\n",
    "       \n",
    "        x1 = X1_raw[0,i]\n",
    "        x2 = X2_raw[0,i]\n",
    "        if(x1 > x2 or x1 == x2):\n",
    "            Y_raw[0,i] = 1\n",
    "        else:\n",
    "            Y_raw[0,i] = -1\n",
    "    return\n",
    "normalizeY()\n",
    "\n",
    "print(Y_raw)"
   ]
  },
  {
   "cell_type": "code",
   "execution_count": 18,
   "metadata": {
    "scrolled": true
   },
   "outputs": [
    {
     "name": "stdout",
     "output_type": "stream",
     "text": [
      "x1 : 0.4116382624341548\n",
      "x2 : 0.8712323922358534\n",
      "y : -1\n"
     ]
    },
    {
     "data": {
      "image/png": "[encoded data removed]",
      "text/plain": [
       "<Figure size 432x288 with 1 Axes>"
      ]
     },
     "metadata": {
      "needs_background": "light"
     },
     "output_type": "display_data"
    }
   ],
   "source": [
    "#to understand deeply show points and classes as numbers\n",
    "print(\"x1 : \" + str(X1_raw[0,0]) )\n",
    "print(\"x2 : \" + str(X2_raw[0,0]) )\n",
    "print(\"y : \" + str(Y_raw[0,0]))\n",
    "\n",
    "\n",
    "#SHOW DATASET AFTER DATASET MODIFICATION\n",
    "fig , ax = plt.subplots(nrows = 1, ncols = 1)\n",
    "x1 = X1_raw\n",
    "x2 = X2_raw\n",
    "Y = Y_raw\n",
    "ax.scatter(x1, x2, marker='o', c=Y, s=25, edgecolor='b')\n",
    "plt.show()"
   ]
  },
  {
   "cell_type": "code",
   "execution_count": 52,
   "metadata": {
    "scrolled": true
   },
   "outputs": [],
   "source": [
    "#initialize weights & learning rate & h(x)\n",
    "W = np.ones(3)\n",
    "W[0] = 1\n",
    "W[1] = 1\n",
    "W[2] = 1\n",
    "learningRate = 0.001\n",
    "h=0 \n"
   ]
  },
  {
   "cell_type": "code",
   "execution_count": 53,
   "metadata": {},
   "outputs": [
    {
     "name": "stdout",
     "output_type": "stream",
     "text": [
      "w0  w1  w2                             x1                 x2                    real y    predicted  learning rate  \n",
      "[0.999      0.99343426 0.99343426] 0.4116382624341548  0.8712323922358534         -1          1       0.001\n",
      "w0  w1  w2                             x1                 x2                    real y    predicted  learning rate  \n",
      "[0.946      0.77378824 0.77378824] -0.28987418794813125  0.29070015609435695         -1          1       0.001\n",
      "w0  w1  w2                             x1                 x2                    real y    predicted  learning rate  \n",
      "[0.889      0.60663742 0.60663742] -0.19780881897154656  0.13551882173487928         -1          1       0.001\n",
      "w0  w1  w2                             x1                 x2                    real y    predicted  learning rate  \n",
      "[0.828      0.48130646 0.48130646] -0.21054279925367858  0.8580000181203238         -1          1       0.001\n",
      "w0  w1  w2                             x1                 x2                    real y    predicted  learning rate  \n",
      "[0.765      0.38381632 0.38381632] -0.7725653115245605  0.720803743449079         -1          1       0.001\n",
      "w0  w1  w2                             x1                 x2                    real y    predicted  learning rate  \n",
      "[0.703      0.30952976 0.30952976] -0.3315644550308259  -0.33516095410000046         -1          1       0.001\n",
      "w0  w1  w2                             x1                 x2                    real y    predicted  learning rate  \n",
      "[0.64       0.25092148 0.25092148] -0.9915015617274279  -0.6810983612412851         -1          1       0.001\n",
      "w0  w1  w2                             x1                 x2                    real y    predicted  learning rate  \n",
      "[0.577      0.20479667 0.20479667] 0.11956415843146995  0.16622484203761978         -1          1       0.001\n",
      "w0  w1  w2                             x1                 x2                    real y    predicted  learning rate  \n",
      "[0.515     0.1690203 0.1690203] 0.021740520442021793  -0.759884723999505         -1          1       0.001\n",
      "w0  w1  w2                             x1                 x2                    real y    predicted  learning rate  \n",
      "[0.452      0.14020863 0.14020863] -0.8025684929873906  -0.3482710505895137         -1          1       0.001\n",
      "w0  w1  w2                             x1                 x2                    real y    predicted  learning rate  \n",
      "[0.389      0.11716125 0.11716125] 0.35514296459382644  0.7742377278521628         -1          1       0.001\n",
      "w0  w1  w2                             x1                 x2                    real y    predicted  learning rate  \n",
      "[0.326      0.09870841 0.09870841] -0.4055042423669162  0.7592036259453907         -1          1       0.001\n",
      "w0  w1  w2                             x1                 x2                    real y    predicted  learning rate  \n",
      "[0.264     0.0840451 0.0840451] -0.21701582571695366  -0.3664683384332772         -1          1       0.001\n",
      "w0  w1  w2                             x1                 x2                    real y    predicted  learning rate  \n",
      "[0.202      0.07211322 0.07211322] -0.1805752207932101  -0.7391824921436017         -1          1       0.001\n",
      "w0  w1  w2                             x1                 x2                    real y    predicted  learning rate  \n",
      "[0.139      0.06221635 0.06221635] -0.5984148770609512  -0.02876718661131683         -1          1       0.001\n",
      "w0  w1  w2                             x1                 x2                    real y    predicted  learning rate  \n",
      "[0.077      0.05420445 0.05420445] -0.1117291702212373  0.7623029694507863         -1          1       0.001\n",
      "w0  w1  w2                             x1                 x2                    real y    predicted  learning rate  \n",
      "[0.028      0.04746057 0.04746057] 0.6789828094342134  -0.6830676901446475         -1          1       0.001\n",
      "w0  w1  w2                             x1                 x2                    real y    predicted  learning rate  \n",
      "[0.001     0.0421931 0.0421931] -0.9970349857303042  0.8475792224337309         -1          -1       0.001\n",
      "w0  w1  w2                             x1                 x2                    real y    predicted  learning rate  \n",
      "[-0.008       0.03814988  0.03814988] -0.07385930821927289  -0.7523710167790714         -1          -1       0.001\n",
      "w0  w1  w2                             x1                 x2                    real y    predicted  learning rate  \n",
      "[-0.009       0.03506319  0.03506319] -0.6647543879327722  0.4926628433395588         -1          -1       0.001\n"
     ]
    }
   ],
   "source": [
    "\n",
    "#calculate wTx = h(x)\n",
    "def calculateWTX(W, x1, x2, i):\n",
    "    return W[0]+(W[1]*x1[0,i])+(W[2]*x2[0,i])\n",
    "\n",
    "\n",
    "#calculate sigmoid\n",
    "def sigmoid(h, i):\n",
    "    if (h < 0 ):\n",
    "        return -1\n",
    "    return 1\n",
    "\n",
    "\n",
    "#predict    \n",
    "def predictBetter(W,y, sigmoid, h, cost):    \n",
    "        \n",
    "        if(y < sigmoid):\n",
    "            #prediction must decrease\n",
    "            W = np.subtract(W , (cost * learningRate))\n",
    "            \n",
    "        else:\n",
    "            #prediction must increase\n",
    "             W = np.add(W , (cost * learningRate))\n",
    "                \n",
    "        return W\n",
    "        \n",
    "\n",
    "# find cost function J(h(x), y) = X_d\n",
    "def findCost(W, y):\n",
    "   \n",
    "    x1_d = 0.0\n",
    "    x2_d = 0.0\n",
    "    \n",
    "    #x1 turevini alınmıs halini yazdım direkt\n",
    "    x1_d = -2*W[1]*(y - (W[0]+(W[1]*x1[0,i])+(W[2]*x2[0,i])))\n",
    "    \n",
    "    #x2 turevinin alınmıs hali\n",
    "    x2_d = -2*W[2]*(y - (W[0]+(W[1]*x1[0,i])+(W[2]*x2[0,i])))\n",
    "    \n",
    "    \n",
    "    X_d = np.ones(3)\n",
    "    X_d[0] = 1# x0 ist always 1\n",
    "    X_d[1] = x1_d\n",
    "    X_d[2] = x2_d\n",
    "    return X_d\n",
    "\n",
    "for j in range(0,2000):\n",
    "    i = j%99\n",
    "    #find h(wTx=0)\n",
    "    h = calculateWTX(W, x1, x2, i)\n",
    "    #find sigmoid(h(wTx))\n",
    "    s = sigmoid(h, i)\n",
    "    #get real y value\n",
    "    y = Y[0,i]\n",
    "    \n",
    "    #real value != estimated value\n",
    "    if (y != s):\n",
    "        \n",
    "        X_d = findCost(W,y)\n",
    "        W = predictBetter(W,y,s,h, X_d)\n",
    " \n",
    "    if(j%100 == 0):\n",
    "        print('w0  '+ 'w1  '+'w2                             ' + 'x1                 '+ 'x2                    '+ 'real y    '+ 'predicted  ' + 'learning rate  ')\n",
    "        print(str(W)+' '+ str(x1[0,i])+'  ' + str(x2[0,i])+'         ' + str(y_val) +'          ' + str(s)+'       ' +str(learningRate))\n",
    "\n",
    "    \n",
    "    \n",
    "    \n",
    "    \n",
    "    \n",
    "    "
   ]
  }
 ],
 "metadata": {
  "kernelspec": {
   "display_name": "Python 3",
   "language": "python",
   "name": "python3"
  },
  "language_info": {
   "codemirror_mode": {
    "name": "ipython",
    "version": 3
   },
   "file_extension": ".py",
   "mimetype": "text/x-python",
   "name": "python",
   "nbconvert_exporter": "python",
   "pygments_lexer": "ipython3",
   "version": "3.8.3"
  }
 },
 "nbformat": 4,
 "nbformat_minor": 4
}
